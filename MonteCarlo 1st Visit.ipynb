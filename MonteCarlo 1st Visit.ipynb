{
 "cells": [
  {
   "cell_type": "code",
   "execution_count": 1,
   "id": "cf127fa9",
   "metadata": {
    "ExecuteTime": {
     "end_time": "2021-05-10T15:14:04.483367Z",
     "start_time": "2021-05-10T15:14:03.217131Z"
    }
   },
   "outputs": [],
   "source": [
    "from PaperTennis_env import PaperTennisEnv\n",
    "import numpy as np\n",
    "import matplotlib.pyplot as plt\n",
    "import time\n",
    "import pickle\n",
    "import os.path\n",
    "from os import path\n",
    "import scipy.io"
   ]
  },
  {
   "cell_type": "code",
   "execution_count": null,
   "id": "974c6bcb",
   "metadata": {},
   "outputs": [],
   "source": [
    "#Hyperparms\n",
    "GAMMA = 0.9\n",
    "E_GREEDY = 0.1\n",
    "\n",
    "Startegies = {\n",
    "    \"Mean\": 1,\n",
    "    \"Long\": 2,\n",
    "    \"Short\": 3,\n",
    "    \"Rand\": 4,\n",
    "}"
   ]
  },
  {
   "cell_type": "code",
   "execution_count": null,
   "id": "54d0124a",
   "metadata": {},
   "outputs": [],
   "source": [
    "# Run Parms !!!!!\n",
    "OPP_Strat='Long'\n",
    "Reset = False\n",
    "NUM_EPISODES = 1000000\n",
    "\n",
    "# Get Opponent Startegy index\n",
    "OPPONENT = Startegies[OPP_Strat]\n",
    "\n",
    "# Init or load value method\n",
    "if Reset or not(path.exists(OPP_Strat + '_MC.p')):\n",
    "    print('New Q Values Initialized...')\n",
    "    Q_val = np.zeros([5,51,51,50])\n",
    "    train_episodes = 0;\n",
    "else:\n",
    "    train_episodes, Q_val = pickle.load(open(OPP_Strat + '_MC.p', \"rb\" ) )"
   ]
  }
 ],
 "metadata": {
  "kernelspec": {
   "display_name": "Python 3",
   "language": "python",
   "name": "python3"
  },
  "language_info": {
   "codemirror_mode": {
    "name": "ipython",
    "version": 3
   },
   "file_extension": ".py",
   "mimetype": "text/x-python",
   "name": "python",
   "nbconvert_exporter": "python",
   "pygments_lexer": "ipython3",
   "version": "3.6.13"
  }
 },
 "nbformat": 4,
 "nbformat_minor": 5
}
