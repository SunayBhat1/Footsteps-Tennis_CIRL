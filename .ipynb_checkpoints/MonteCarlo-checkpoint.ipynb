{
 "cells": [
  {
   "cell_type": "code",
   "execution_count": 11,
   "id": "cf127fa9",
   "metadata": {
    "ExecuteTime": {
     "end_time": "2021-05-13T05:11:58.306481Z",
     "start_time": "2021-05-13T05:11:58.293290Z"
    }
   },
   "outputs": [],
   "source": [
    "from PaperTennis_env import PaperTennisEnv\n",
    "import numpy as np\n",
    "import matplotlib.pyplot as plt\n",
    "import time\n",
    "import pickle\n",
    "import os.path\n",
    "from os import path\n",
    "import scipy.io\n",
    "from collections import defaultdict"
   ]
  },
  {
   "cell_type": "code",
   "execution_count": 12,
   "id": "974c6bcb",
   "metadata": {
    "ExecuteTime": {
     "end_time": "2021-05-13T05:11:59.209560Z",
     "start_time": "2021-05-13T05:11:59.203171Z"
    }
   },
   "outputs": [],
   "source": [
    "#Hyperparms\n",
    "GAMMA = 0.9\n",
    "E_GREEDY = 0.1\n",
    "\n",
    "Startegies = {\n",
    "    \"Mean\": 1,\n",
    "    \"Long\": 2,\n",
    "    \"Short\": 3,\n",
    "    \"Rand\": 4,\n",
    "}"
   ]
  },
  {
   "cell_type": "code",
   "execution_count": 66,
   "id": "54d0124a",
   "metadata": {
    "ExecuteTime": {
     "end_time": "2021-05-13T05:58:45.710092Z",
     "start_time": "2021-05-13T05:58:45.700273Z"
    }
   },
   "outputs": [
    {
     "name": "stdout",
     "output_type": "stream",
     "text": [
      "New Q Values Initialized...\n"
     ]
    }
   ],
   "source": [
    "# Run Parms !!!!!\n",
    "OPP_Strat='Long'\n",
    "Reset = True\n",
    "NUM_EPISODES = 1000000\n",
    "\n",
    "# Get Opponent Startegy index\n",
    "OPPONENT = Startegies[OPP_Strat]\n",
    "\n",
    "# Init or load value method\n",
    "if Reset or not(path.exists(OPP_Strat + '_MC.p')):\n",
    "    print('New Q Values Initialized...')\n",
    "    Q_val = np.zeros([5,51,51,50])\n",
    "    train_episodes = 0;\n",
    "else:\n",
    "    train_episodes, Q_val = pickle.load(open(OPP_Strat + '_MC.p', \"rb\" ) )"
   ]
  },
  {
   "cell_type": "code",
   "execution_count": 56,
   "id": "76edb73c",
   "metadata": {
    "ExecuteTime": {
     "end_time": "2021-05-13T05:41:06.745033Z",
     "start_time": "2021-05-13T05:41:06.737996Z"
    }
   },
   "outputs": [],
   "source": [
    "# Get action e-greedy\n",
    "def get_action(state,Q_val):\n",
    "    if state[1] == 0:\n",
    "        return 0\n",
    "\n",
    "    p_epsilon = np.random.uniform(0,1)\n",
    "    if p_epsilon < E_GREEDY:\n",
    "        return np.argmax(np.random.uniform(0,1,(1,state[1]))) + 1\n",
    "\n",
    "    q_s = np.zeros(state[1])\n",
    "\n",
    "    for i in range(1,state[1]):\n",
    "        q_s[i] = Q_val[state[0],state[1],state[2],i]\n",
    "\n",
    "    return np.argmax(q_s) + 1"
   ]
  },
  {
   "cell_type": "code",
   "execution_count": 64,
   "id": "ebf6ad4b",
   "metadata": {
    "ExecuteTime": {
     "end_time": "2021-05-13T05:57:45.730780Z",
     "start_time": "2021-05-13T05:57:29.165806Z"
    }
   },
   "outputs": [
    {
     "name": "stdout",
     "output_type": "stream",
     "text": [
      "Episode 0 completed with reward -1\n",
      "Episode 1000 completed with reward -1\n",
      "Episode 2000 completed with reward -1\n",
      "Episode 3000 completed with reward -1\n",
      "Episode 4000 completed with reward -1\n",
      "Episode 5000 completed with reward -1\n",
      "Episode 6000 completed with reward -1\n",
      "Episode 7000 completed with reward 1\n",
      "Episode 8000 completed with reward 1\n",
      "Episode 9000 completed with reward -1\n",
      "Episode 10000 completed with reward -1\n",
      "Episode 11000 completed with reward 1\n",
      "Episode 12000 completed with reward 1\n",
      "Episode 13000 completed with reward 1\n",
      "Episode 14000 completed with reward 1\n",
      "Episode 15000 completed with reward 1\n",
      "Episode 16000 completed with reward -1\n",
      "Episode 17000 completed with reward -1\n",
      "Episode 18000 completed with reward -1\n",
      "Episode 19000 completed with reward -1\n",
      "Episode 20000 completed with reward -1\n",
      "Episode 21000 completed with reward 1\n",
      "Episode 22000 completed with reward 1\n",
      "Episode 23000 completed with reward -1\n",
      "Episode 24000 completed with reward 1\n",
      "Episode 25000 completed with reward -1\n",
      "Episode 26000 completed with reward -1\n",
      "Episode 27000 completed with reward 1\n",
      "Episode 28000 completed with reward 1\n",
      "Episode 29000 completed with reward 1\n",
      "Episode 30000 completed with reward 1\n",
      "Episode 31000 completed with reward -1\n",
      "Episode 32000 completed with reward -1\n",
      "Episode 33000 completed with reward 1\n",
      "Episode 34000 completed with reward 1\n",
      "Episode 35000 completed with reward 1\n",
      "Episode 36000 completed with reward 1\n",
      "Episode 37000 completed with reward -1\n",
      "Episode 38000 completed with reward 1\n",
      "Episode 39000 completed with reward -1\n",
      "Episode 40000 completed with reward -1\n",
      "Episode 41000 completed with reward 1\n",
      "Episode 42000 completed with reward 1\n",
      "Episode 43000 completed with reward 1\n",
      "Episode 44000 completed with reward -1\n",
      "Episode 45000 completed with reward -1\n",
      "Episode 46000 completed with reward 1\n",
      "Episode 47000 completed with reward -1\n",
      "Episode 48000 completed with reward 1\n",
      "Episode 49000 completed with reward 1\n",
      "Episode 50000 completed with reward 1\n",
      "Episode 51000 completed with reward -1\n",
      "Episode 52000 completed with reward 1\n",
      "Episode 53000 completed with reward -1\n",
      "Episode 54000 completed with reward -1\n",
      "Episode 55000 completed with reward 1\n",
      "Episode 56000 completed with reward 1\n",
      "Episode 57000 completed with reward 1\n",
      "Episode 58000 completed with reward 1\n",
      "Episode 59000 completed with reward -1\n",
      "Episode 60000 completed with reward 1\n",
      "Episode 61000 completed with reward -1\n",
      "Episode 62000 completed with reward 1\n",
      "Episode 63000 completed with reward 1\n",
      "Episode 64000 completed with reward -1\n",
      "Episode 65000 completed with reward 1\n",
      "Episode 66000 completed with reward 1\n",
      "Episode 67000 completed with reward 1\n",
      "Episode 68000 completed with reward 1\n",
      "Episode 69000 completed with reward 1\n",
      "Episode 70000 completed with reward -1\n",
      "Episode 71000 completed with reward -1\n",
      "Episode 72000 completed with reward 1\n",
      "Episode 73000 completed with reward -1\n",
      "Episode 74000 completed with reward -1\n",
      "Episode 75000 completed with reward 1\n",
      "Episode 76000 completed with reward 1\n",
      "Episode 77000 completed with reward 1\n",
      "Episode 78000 completed with reward 1\n",
      "Episode 79000 completed with reward 1\n",
      "Episode 80000 completed with reward 1\n",
      "Episode 81000 completed with reward 1\n",
      "Episode 82000 completed with reward -1\n",
      "Episode 83000 completed with reward -1\n",
      "Episode 84000 completed with reward 1\n",
      "Episode 85000 completed with reward 1\n",
      "Episode 86000 completed with reward -1\n",
      "Episode 87000 completed with reward -1\n",
      "Episode 88000 completed with reward -1\n",
      "Episode 89000 completed with reward 1\n",
      "Episode 90000 completed with reward 1\n",
      "Episode 91000 completed with reward 1\n",
      "Episode 92000 completed with reward 1\n",
      "Episode 93000 completed with reward -1\n",
      "Episode 94000 completed with reward 1\n",
      "Episode 95000 completed with reward 1\n",
      "Episode 96000 completed with reward 1\n",
      "Episode 97000 completed with reward 1\n",
      "Episode 98000 completed with reward 1\n",
      "Episode 99000 completed with reward -1\n",
      "--- 16.549422025680542 seconds ---\n",
      "Final mean win percent = 76.9668 \n",
      "Zero Q-Vals = 647058 \n"
     ]
    }
   ],
   "source": [
    "start_time = time.time()\n",
    "\n",
    "# init env\n",
    "env = PaperTennisEnv()\n",
    "\n",
    "# Plotting Stuff\n",
    "trend_wins = np.zeros(NUM_EPISODES-100)\n",
    "wins = np.zeros(NUM_EPISODES)\n",
    "\n",
    "Returns = np.zeros([5,51,51,50],dtype=object)\n",
    "Counters = np.zeros([5,51,51,50],dtype=object)\n",
    "\n",
    "for episode in range(NUM_EPISODES):\n",
    "\n",
    "    env.reset()\n",
    "    \n",
    "    done = False\n",
    "\n",
    "    # Generate an episode\n",
    "    state_list = list()\n",
    "    action_list = list()\n",
    "    reward_list = list()\n",
    "    total_reward = 0\n",
    "    error_episode = 0\n",
    "    \n",
    "    state = env.state\n",
    "    G = 0\n",
    "    while not done:\n",
    "        \n",
    "        state_list.append(state)\n",
    "        \n",
    "        action = get_action(state,Q_val)\n",
    "        \n",
    "        state, reward, done = env.step(action,OPPONENT)\n",
    "        \n",
    "        action_list.append(action)\n",
    "        reward_list.append(reward)\n",
    "\n",
    "        if (done and reward == 1):\n",
    "            wins[episode] = 1\n",
    "            \n",
    "    for t in range(0,len(state_list)):\n",
    "        G = GAMMA * G + reward_list[t]\n",
    "        Returns[state_list[t][0],state_list[t][1],state_list[t][2],action_list[t]-1] += G\n",
    "        Counters[state_list[t][0],state_list[t][1],state_list[t][2],action_list[t]-1] += 1\n",
    "        Q_val[state_list[t][0],state_list[t][1],state_list[t][2],action_list[t]-1] = Returns[state_list[t][0],state_list[t][1],state_list[t][2],action_list[t]-1]/Counters[state_list[t][0],state_list[t][1],state_list[t][2],action_list[t]-1]\n",
    "\n",
    "    if episode >= 100:\n",
    "        trend_wins[episode-100] = np.sum(wins[episode-100:episode])\n",
    "    \n",
    "    if episode%10000 == 0: print(\"Episode %d completed with reward %d\" % (episode, reward))\n",
    " \n",
    "        \n",
    "# # Save Q-val Table and episode count\n",
    "# pickle.dump([train_episodes,Q_val], open(OPP_Strat + '.p', \"wb\" ) )\n",
    "\n",
    "# Print run details\n",
    "print(\"--- %s seconds ---\" % (time.time() - start_time))\n",
    "print(\"Final mean win percent = %s \" % (np.mean(trend_wins[-10000:])))\n",
    "print(\"Zero Q-Vals = %s \" % (np.count_nonzero(Q_val==0)))\n",
    "# print(\"Total Episodes %s \" % (train_episodes))"
   ]
  },
  {
   "cell_type": "code",
   "execution_count": 65,
   "id": "de345104",
   "metadata": {
    "ExecuteTime": {
     "end_time": "2021-05-13T05:57:48.454592Z",
     "start_time": "2021-05-13T05:57:48.048039Z"
    }
   },
   "outputs": [
    {
     "data": {
      "image/png": "[encoded data removed]",
      "text/plain": [
       "<Figure size 432x288 with 1 Axes>"
      ]
     },
     "metadata": {
      "needs_background": "light"
     },
     "output_type": "display_data"
    }
   ],
   "source": [
    "plt.plot(range(100,NUM_EPISODES),trend_wins)\n",
    "plt.title('Monte Carlo Control-' +  OPP_Strat + ' player\\nLast 100 Win%')\n",
    "plt.xscale('log')\n",
    "plt.grid()"
   ]
  },
  {
   "cell_type": "code",
   "execution_count": 29,
   "id": "a686785c",
   "metadata": {
    "ExecuteTime": {
     "end_time": "2021-05-13T05:17:14.363582Z",
     "start_time": "2021-05-13T05:17:14.357868Z"
    }
   },
   "outputs": [
    {
     "data": {
      "text/plain": [
       "(0, 50, 50)"
      ]
     },
     "execution_count": 29,
     "metadata": {},
     "output_type": "execute_result"
    }
   ],
   "source": [
    "env.state"
   ]
  },
  {
   "cell_type": "code",
   "execution_count": null,
   "id": "4094ead7",
   "metadata": {},
   "outputs": [],
   "source": []
  }
 ],
 "metadata": {
  "kernelspec": {
   "display_name": "Python 3",
   "language": "python",
   "name": "python3"
  },
  "language_info": {
   "codemirror_mode": {
    "name": "ipython",
    "version": 3
   },
   "file_extension": ".py",
   "mimetype": "text/x-python",
   "name": "python",
   "nbconvert_exporter": "python",
   "pygments_lexer": "ipython3",
   "version": "3.6.13"
  }
 },
 "nbformat": 4,
 "nbformat_minor": 5
}
