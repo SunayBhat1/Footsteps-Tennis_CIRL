{
 "cells": [
  {
   "cell_type": "code",
   "execution_count": 11,
   "id": "cf127fa9",
   "metadata": {
    "ExecuteTime": {
     "end_time": "2021-05-13T05:11:58.306481Z",
     "start_time": "2021-05-13T05:11:58.293290Z"
    }
   },
   "outputs": [],
   "source": [
    "from PaperTennis_env import PaperTennisEnv\n",
    "import numpy as np\n",
    "import matplotlib.pyplot as plt\n",
    "import time\n",
    "import pickle\n",
    "import os.path\n",
    "from os import path\n",
    "import scipy.io\n",
    "from collections import defaultdict"
   ]
  },
  {
   "cell_type": "code",
   "execution_count": 12,
   "id": "974c6bcb",
   "metadata": {
    "ExecuteTime": {
     "end_time": "2021-05-13T05:11:59.209560Z",
     "start_time": "2021-05-13T05:11:59.203171Z"
    }
   },
   "outputs": [],
   "source": [
    "#Hyperparms\n",
    "GAMMA = 0.9\n",
    "E_GREEDY = 0.1\n",
    "\n",
    "Startegies = {\n",
    "    \"Mean\": 1,\n",
    "    \"Long\": 2,\n",
    "    \"Short\": 3,\n",
    "    \"Rand\": 4,\n",
    "}"
   ]
  },
  {
   "cell_type": "code",
   "execution_count": 66,
   "id": "54d0124a",
   "metadata": {
    "ExecuteTime": {
     "end_time": "2021-05-13T05:58:45.710092Z",
     "start_time": "2021-05-13T05:58:45.700273Z"
    }
   },
   "outputs": [
    {
     "name": "stdout",
     "output_type": "stream",
     "text": [
      "New Q Values Initialized...\n"
     ]
    }
   ],
   "source": [
    "# Run Parms !!!!!\n",
    "OPP_Strat='Long'\n",
    "Reset = True\n",
    "NUM_EPISODES = 1000000\n",
    "\n",
    "# Get Opponent Startegy index\n",
    "OPPONENT = Startegies[OPP_Strat]\n",
    "\n",
    "# Init or load value method\n",
    "if Reset or not(path.exists(OPP_Strat + '_MC.p')):\n",
    "    print('New Q Values Initialized...')\n",
    "    Q_val = np.zeros([5,51,51,50])\n",
    "    train_episodes = 0;\n",
    "else:\n",
    "    train_episodes, Q_val = pickle.load(open(OPP_Strat + '_MC.p', \"rb\" ) )"
   ]
  },
  {
   "cell_type": "code",
   "execution_count": 56,
   "id": "8765c55c",
   "metadata": {
    "ExecuteTime": {
     "end_time": "2021-05-13T05:41:06.745033Z",
     "start_time": "2021-05-13T05:41:06.737996Z"
    }
   },
   "outputs": [],
   "source": [
    "# Get action e-greedy\n",
    "def get_action(state,Q_val):\n",
    "    if state[1] == 0:\n",
    "        return 0\n",
    "\n",
    "    p_epsilon = np.random.uniform(0,1)\n",
    "    if p_epsilon < E_GREEDY:\n",
    "        return np.argmax(np.random.uniform(0,1,(1,state[1]))) + 1\n",
    "\n",
    "    q_s = np.zeros(state[1])\n",
    "\n",
    "    for i in range(1,state[1]):\n",
    "        q_s[i] = Q_val[state[0],state[1],state[2],i]\n",
    "\n",
    "    return np.argmax(q_s) + 1"
   ]
  },
  {
   "cell_type": "code",
   "execution_count": 67,
   "id": "0921a912",
   "metadata": {
    "ExecuteTime": {
     "end_time": "2021-05-13T06:01:33.381591Z",
     "start_time": "2021-05-13T05:58:54.754164Z"
    }
   },
   "outputs": [
    {
     "name": "stdout",
     "output_type": "stream",
     "text": [
      "Episode 0 completed with reward -1\n",
      "Episode 10000 completed with reward -1\n",
      "Episode 20000 completed with reward 1\n",
      "Episode 30000 completed with reward 1\n",
      "Episode 40000 completed with reward 1\n",
      "Episode 50000 completed with reward 1\n",
      "Episode 60000 completed with reward 1\n",
      "Episode 70000 completed with reward 1\n",
      "Episode 80000 completed with reward -1\n",
      "Episode 90000 completed with reward 1\n",
      "Episode 100000 completed with reward 1\n",
      "Episode 110000 completed with reward 1\n",
      "Episode 120000 completed with reward -1\n",
      "Episode 130000 completed with reward 1\n",
      "Episode 140000 completed with reward 1\n",
      "Episode 150000 completed with reward 1\n",
      "Episode 160000 completed with reward 1\n",
      "Episode 170000 completed with reward 1\n",
      "Episode 180000 completed with reward -1\n",
      "Episode 190000 completed with reward 1\n",
      "Episode 200000 completed with reward -1\n",
      "Episode 210000 completed with reward 1\n",
      "Episode 220000 completed with reward 1\n",
      "Episode 230000 completed with reward 1\n",
      "Episode 240000 completed with reward -1\n",
      "Episode 250000 completed with reward -1\n",
      "Episode 260000 completed with reward 1\n",
      "Episode 270000 completed with reward -1\n",
      "Episode 280000 completed with reward -1\n",
      "Episode 290000 completed with reward 1\n",
      "Episode 300000 completed with reward 1\n",
      "Episode 310000 completed with reward 1\n",
      "Episode 320000 completed with reward 1\n",
      "Episode 330000 completed with reward 1\n",
      "Episode 340000 completed with reward 1\n",
      "Episode 350000 completed with reward 1\n",
      "Episode 360000 completed with reward 1\n",
      "Episode 370000 completed with reward 1\n",
      "Episode 380000 completed with reward 1\n",
      "Episode 390000 completed with reward 1\n",
      "Episode 400000 completed with reward -1\n",
      "Episode 410000 completed with reward 1\n",
      "Episode 420000 completed with reward -1\n",
      "Episode 430000 completed with reward 1\n",
      "Episode 440000 completed with reward -1\n",
      "Episode 450000 completed with reward 1\n",
      "Episode 460000 completed with reward -1\n",
      "Episode 470000 completed with reward 1\n",
      "Episode 480000 completed with reward 1\n",
      "Episode 490000 completed with reward 1\n",
      "Episode 500000 completed with reward 1\n",
      "Episode 510000 completed with reward 1\n",
      "Episode 520000 completed with reward 1\n",
      "Episode 530000 completed with reward 1\n",
      "Episode 540000 completed with reward 1\n",
      "Episode 550000 completed with reward 1\n",
      "Episode 560000 completed with reward 1\n",
      "Episode 570000 completed with reward 1\n",
      "Episode 580000 completed with reward -1\n",
      "Episode 590000 completed with reward 1\n",
      "Episode 600000 completed with reward 1\n",
      "Episode 610000 completed with reward 1\n",
      "Episode 620000 completed with reward 1\n",
      "Episode 630000 completed with reward 1\n",
      "Episode 640000 completed with reward 1\n",
      "Episode 650000 completed with reward 1\n",
      "Episode 660000 completed with reward 1\n",
      "Episode 670000 completed with reward -1\n",
      "Episode 680000 completed with reward 1\n",
      "Episode 690000 completed with reward 1\n",
      "Episode 700000 completed with reward 1\n",
      "Episode 710000 completed with reward 1\n",
      "Episode 720000 completed with reward -1\n",
      "Episode 730000 completed with reward 1\n",
      "Episode 740000 completed with reward 1\n",
      "Episode 750000 completed with reward 1\n",
      "Episode 760000 completed with reward 1\n",
      "Episode 770000 completed with reward -1\n",
      "Episode 780000 completed with reward 1\n",
      "Episode 790000 completed with reward -1\n",
      "Episode 800000 completed with reward 1\n",
      "Episode 810000 completed with reward 1\n",
      "Episode 820000 completed with reward 1\n",
      "Episode 830000 completed with reward 1\n",
      "Episode 840000 completed with reward 1\n",
      "Episode 850000 completed with reward 1\n",
      "Episode 860000 completed with reward 1\n",
      "Episode 870000 completed with reward 1\n",
      "Episode 880000 completed with reward 1\n",
      "Episode 890000 completed with reward 1\n",
      "Episode 900000 completed with reward 1\n",
      "Episode 910000 completed with reward 1\n",
      "Episode 920000 completed with reward 1\n",
      "Episode 930000 completed with reward -1\n",
      "Episode 940000 completed with reward 1\n",
      "Episode 950000 completed with reward 1\n",
      "Episode 960000 completed with reward 1\n",
      "Episode 970000 completed with reward 1\n",
      "Episode 980000 completed with reward 1\n",
      "Episode 990000 completed with reward -1\n",
      "--- 158.61271977424622 seconds ---\n",
      "Final mean win percent = 83.0974 \n",
      "Zero Q-Vals = 641247 \n"
     ]
    }
   ],
   "source": [
    "start_time = time.time()\n",
    "\n",
    "# init env\n",
    "env = PaperTennisEnv()\n",
    "\n",
    "# Plotting Stuff\n",
    "trend_wins = np.zeros(NUM_EPISODES-100)\n",
    "wins = np.zeros(NUM_EPISODES)\n",
    "\n",
    "Returns = np.zeros([5,51,51,50],dtype=object)\n",
    "Counters = np.zeros([5,51,51,50],dtype=obje   t)\n",
    "\n",
    "for episode in range(NUM_EPISODES):\n",
    "\n",
    "    env.reset()\n",
    "    \n",
    "    done = False\n",
    "\n",
    "    # Generate an episode\n",
    "    state_list = list()\n",
    "    action_list = list()\n",
    "    reward_list = list()\n",
    "    total_reward = 0\n",
    "    error_episode = 0\n",
    "    \n",
    "    state = env.state\n",
    "    G = 0\n",
    "    while not done:\n",
    "        \n",
    "        state_list.append(state)\n",
    "        \n",
    "        action = get_action(state,Q_val)\n",
    "        \n",
    "        state, reward, done = env.step(action,OPPONENT)\n",
    "        \n",
    "        action_list.append(action)\n",
    "        reward_list.append(reward)\n",
    "\n",
    "        if (done and reward == 1):\n",
    "            wins[episode] = 1\n",
    "            \n",
    "    for t in range(0,len(state_list)):\n",
    "        G = GAMMA * G + reward_list[t]\n",
    "        Returns[state_list[t][0],state_list[t][1],state_list[t][2],action_list[t]-1] += G\n",
    "        Counters[state_list[t][0],state_list[t][1],state_list[t][2],action_list[t]-1] += 1\n",
    "        Q_val[state_list[t][0],state_list[t][1],state_list[t][2],action_list[t]-1] = Returns[state_list[t][0],state_list[t][1],state_list[t][2],action_list[t]-1]/Counters[state_list[t][0],state_list[t][1],state_list[t][2],action_list[t]-1]\n",
    "\n",
    "    if episode >= 100:\n",
    "        trend_wins[episode-100] = np.sum(wins[episode-100:episode])\n",
    "    \n",
    "    if episode%10000 == 0: print(\"Episode %d completed with reward %d\" % (episode, reward))\n",
    " \n",
    "        \n",
    "# # Save Q-val Table and episode count\n",
    "# pickle.dump([train_episodes,Q_val], open(OPP_Strat + '.p', \"wb\" ) )\n",
    "\n",
    "# Print run details\n",
    "print(\"--- %s seconds ---\" % (time.time() - start_time))\n",
    "print(\"Final mean win percent = %s \" % (np.mean(trend_wins[-10000:])))\n",
    "print(\"Zero Q-Vals = %s \" % (np.count_nonzero(Q_val==0)))\n",
    "# print(\"Total Episodes %s \" % (train_episodes))"
   ]
  },
  {
   "cell_type": "code",
   "execution_count": 68,
   "id": "7b907d3b",
   "metadata": {
    "ExecuteTime": {
     "end_time": "2021-05-13T06:05:48.010001Z",
     "start_time": "2021-05-13T06:05:47.045031Z"
    }
   },
   "outputs": [
    {
     "data": {
      "image/png": "[encoded data removed]",
      "text/plain": [
       "<Figure size 432x288 with 1 Axes>"
      ]
     },
     "metadata": {
      "needs_background": "light"
     },
     "output_type": "display_data"
    }
   ],
   "source": [
    "plt.plot(range(100,NUM_EPISODES),trend_wins)\n",
    "plt.title('Monte Carlo Control-' +  OPP_Strat + ' player\\nLast 100 Win%')\n",
    "plt.xscale('log')\n",
    "plt.grid()"
   ]
  },
  {
   "cell_type": "code",
   "execution_count": 29,
   "id": "75fd65ee",
   "metadata": {
    "ExecuteTime": {
     "end_time": "2021-05-13T05:17:14.363582Z",
     "start_time": "2021-05-13T05:17:14.357868Z"
    }
   },
   "outputs": [
    {
     "data": {
      "text/plain": [
       "(0, 50, 50)"
      ]
     },
     "execution_count": 29,
     "metadata": {},
     "output_type": "execute_result"
    }
   ],
   "source": [
    "env.state"
   ]
  },
  {
   "cell_type": "code",
   "execution_count": null,
   "id": "709fd4e5",
   "metadata": {},
   "outputs": [],
   "source": []
  }
 ],
 "metadata": {
  "kernelspec": {
   "display_name": "Python 3",
   "language": "python",
   "name": "python3"
  },
  "language_info": {
   "codemirror_mode": {
    "name": "ipython",
    "version": 3
   },
   "file_extension": ".py",
   "mimetype": "text/x-python",
   "name": "python",
   "nbconvert_exporter": "python",
   "pygments_lexer": "ipython3",
   "version": "3.6.13"
  }
 },
 "nbformat": 4,
 "nbformat_minor": 5
}